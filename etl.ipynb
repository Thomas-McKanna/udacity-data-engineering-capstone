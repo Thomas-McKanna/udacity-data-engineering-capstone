{
 "cells": [
  {
   "cell_type": "markdown",
   "id": "8b270a8e",
   "metadata": {},
   "source": [
    "# Daily Covid-19 Data ETL"
   ]
  },
  {
   "cell_type": "markdown",
   "id": "614b6b83",
   "metadata": {},
   "source": [
    "## Imports and creating spark session"
   ]
  },
  {
   "cell_type": "code",
   "execution_count": 1,
   "id": "dd46da3a",
   "metadata": {},
   "outputs": [],
   "source": [
    "from pyspark.sql import SparkSession, Window\n",
    "from pyspark.sql import functions as F\n",
    "\n",
    "import pandas as pd\n",
    "from datetime import datetime"
   ]
  },
  {
   "cell_type": "code",
   "execution_count": 2,
   "id": "2dd5409d",
   "metadata": {},
   "outputs": [],
   "source": [
    "spark = SparkSession \\\n",
    "    .builder \\\n",
    "    .appName(\"Data Engineering Capstone Project\") \\\n",
    "    .getOrCreate()"
   ]
  },
  {
   "cell_type": "code",
   "execution_count": 3,
   "id": "f9c8355b",
   "metadata": {},
   "outputs": [],
   "source": [
    "spark.conf.set(\"spark.sql.repl.eagerEval.enabled\", True)"
   ]
  },
  {
   "cell_type": "markdown",
   "id": "58eb3a06",
   "metadata": {},
   "source": [
    "## Data loading and cleaning"
   ]
  },
  {
   "cell_type": "code",
   "execution_count": 4,
   "id": "581d426b",
   "metadata": {},
   "outputs": [],
   "source": [
    "df = spark.read.csv('covid_19_daily_reports', header=True)"
   ]
  },
  {
   "cell_type": "code",
   "execution_count": 5,
   "id": "c49a71ce",
   "metadata": {},
   "outputs": [
    {
     "data": {
      "text/plain": [
       "1590041"
      ]
     },
     "execution_count": 5,
     "metadata": {},
     "output_type": "execute_result"
    }
   ],
   "source": [
    "df.count()"
   ]
  },
  {
   "cell_type": "code",
   "execution_count": 6,
   "id": "dd3a656a",
   "metadata": {},
   "outputs": [
    {
     "data": {
      "text/html": [
       "<table border='1'>\n",
       "<tr><th>FIPS</th><th>Admin2</th><th>Province_State</th><th>Country_Region</th><th>Last_Update</th><th>Lat</th><th>Long_</th><th>Confirmed</th><th>Deaths</th><th>Recovered</th><th>Active</th><th>Combined_Key</th><th>Incident_Rate</th><th>Case_Fatality_Ratio</th></tr>\n",
       "<tr><td>null</td><td>null</td><td>null</td><td>Afghanistan</td><td>2021-02-27 05:22:28</td><td>33.93911</td><td>67.709953</td><td>55696</td><td>2442</td><td>49285</td><td>3969</td><td>Afghanistan</td><td>143.0731404659654</td><td>4.384515943694341</td></tr>\n",
       "<tr><td>null</td><td>null</td><td>null</td><td>Albania</td><td>2021-02-27 05:22:28</td><td>41.1533</td><td>20.1683</td><td>105229</td><td>1756</td><td>68007</td><td>35466</td><td>Albania</td><td>3656.5779414830768</td><td>1.6687415066188978</td></tr>\n",
       "<tr><td>null</td><td>null</td><td>null</td><td>Algeria</td><td>2021-02-27 05:22:28</td><td>28.0339</td><td>1.6596</td><td>112805</td><td>2977</td><td>77842</td><td>31986</td><td>Algeria</td><td>257.2458766830244</td><td>2.639067417224414</td></tr>\n",
       "<tr><td>null</td><td>null</td><td>null</td><td>Andorra</td><td>2021-02-27 05:22:28</td><td>42.5063</td><td>1.5218</td><td>10822</td><td>110</td><td>10394</td><td>318</td><td>Andorra</td><td>14006.341810651653</td><td>1.0164479763444834</td></tr>\n",
       "<tr><td>null</td><td>null</td><td>null</td><td>Angola</td><td>2021-02-27 05:22:28</td><td>-11.2027</td><td>17.8739</td><td>20759</td><td>504</td><td>19307</td><td>948</td><td>Angola</td><td>63.16202375030837</td><td>2.42786261380606</td></tr>\n",
       "<tr><td>null</td><td>null</td><td>null</td><td>Antigua and Barbuda</td><td>2021-02-27 05:22:28</td><td>17.0608</td><td>-61.7964</td><td>701</td><td>14</td><td>271</td><td>416</td><td>Antigua and Barbuda</td><td>715.832039866024</td><td>1.9971469329529243</td></tr>\n",
       "<tr><td>null</td><td>null</td><td>null</td><td>Argentina</td><td>2021-02-27 05:22:28</td><td>-38.4161</td><td>-63.6167</td><td>2098728</td><td>51887</td><td>1892834</td><td>154007</td><td>Argentina</td><td>4643.637391165993</td><td>2.4723070354995977</td></tr>\n",
       "<tr><td>null</td><td>null</td><td>null</td><td>Armenia</td><td>2021-02-27 05:22:28</td><td>40.0691</td><td>45.0382</td><td>171510</td><td>3183</td><td>163165</td><td>5162</td><td>Armenia</td><td>5787.9330488243595</td><td>1.855868462480322</td></tr>\n",
       "<tr><td>null</td><td>null</td><td>Australian Capita...</td><td>Australia</td><td>2021-02-27 05:22:28</td><td>-35.4735</td><td>149.0124</td><td>118</td><td>3</td><td>115</td><td>0</td><td>Australian Capita...</td><td>27.563653352020555</td><td>2.542372881355932</td></tr>\n",
       "<tr><td>null</td><td>null</td><td>New South Wales</td><td>Australia</td><td>2021-02-27 05:22:28</td><td>-33.8688</td><td>151.2093</td><td>5172</td><td>54</td><td>0</td><td>5118</td><td>New South Wales, ...</td><td>63.71027346637103</td><td>1.0440835266821347</td></tr>\n",
       "<tr><td>null</td><td>null</td><td>Northern Territory</td><td>Australia</td><td>2021-02-27 05:22:28</td><td>-12.4634</td><td>130.8456</td><td>105</td><td>0</td><td>103</td><td>2</td><td>Northern Territor...</td><td>42.75244299674267</td><td>0.0</td></tr>\n",
       "<tr><td>null</td><td>null</td><td>Queensland</td><td>Australia</td><td>2021-02-27 05:22:28</td><td>-27.4698</td><td>153.0251</td><td>1329</td><td>6</td><td>1310</td><td>13</td><td>Queensland, Austr...</td><td>25.979865115824452</td><td>0.45146726862302483</td></tr>\n",
       "<tr><td>null</td><td>null</td><td>South Australia</td><td>Australia</td><td>2021-02-27 05:22:28</td><td>-34.9285</td><td>138.6007</td><td>613</td><td>4</td><td>606</td><td>3</td><td>South Australia, ...</td><td>34.89894676914318</td><td>0.6525285481239804</td></tr>\n",
       "<tr><td>null</td><td>null</td><td>Tasmania</td><td>Australia</td><td>2021-02-27 05:22:28</td><td>-42.8821</td><td>147.3272</td><td>234</td><td>13</td><td>221</td><td>0</td><td>Tasmania, Australia</td><td>43.69747899159664</td><td>5.555555555555555</td></tr>\n",
       "<tr><td>null</td><td>null</td><td>Victoria</td><td>Australia</td><td>2021-02-27 05:22:28</td><td>-37.8136</td><td>144.9631</td><td>20481</td><td>820</td><td>19646</td><td>15</td><td>Victoria, Australia</td><td>308.9186865563583</td><td>4.003710756310727</td></tr>\n",
       "<tr><td>null</td><td>null</td><td>Western Australia</td><td>Australia</td><td>2021-02-27 05:22:28</td><td>-31.9505</td><td>115.8605</td><td>913</td><td>9</td><td>901</td><td>3</td><td>Western Australia...</td><td>34.70691097088117</td><td>0.9857612267250822</td></tr>\n",
       "<tr><td>null</td><td>null</td><td>null</td><td>Austria</td><td>2021-02-27 05:22:28</td><td>47.5162</td><td>14.5501</td><td>454860</td><td>8515</td><td>427257</td><td>19088</td><td>Austria</td><td>5050.4085983300765</td><td>1.8720045728355978</td></tr>\n",
       "<tr><td>null</td><td>null</td><td>null</td><td>Azerbaijan</td><td>2021-02-27 05:22:28</td><td>40.1431</td><td>47.5769</td><td>233989</td><td>3213</td><td>228479</td><td>2297</td><td>Azerbaijan</td><td>2307.7715889113265</td><td>1.3731414724623807</td></tr>\n",
       "<tr><td>null</td><td>null</td><td>null</td><td>Bahamas</td><td>2021-02-27 05:22:28</td><td>25.025885</td><td>-78.035889</td><td>8519</td><td>179</td><td>7309</td><td>1031</td><td>Bahamas</td><td>2166.3174383595083</td><td>2.1011855851625776</td></tr>\n",
       "<tr><td>null</td><td>null</td><td>null</td><td>Bahrain</td><td>2021-02-27 05:22:28</td><td>26.0275</td><td>50.55</td><td>121127</td><td>442</td><td>113799</td><td>6886</td><td>Bahrain</td><td>7118.489077523695</td><td>0.3649062554178672</td></tr>\n",
       "</table>\n",
       "only showing top 20 rows\n"
      ],
      "text/plain": [
       "+----+------+--------------------+-------------------+-------------------+---------+----------+---------+------+---------+------+--------------------+------------------+-------------------+\n",
       "|FIPS|Admin2|      Province_State|     Country_Region|        Last_Update|      Lat|     Long_|Confirmed|Deaths|Recovered|Active|        Combined_Key|     Incident_Rate|Case_Fatality_Ratio|\n",
       "+----+------+--------------------+-------------------+-------------------+---------+----------+---------+------+---------+------+--------------------+------------------+-------------------+\n",
       "|null|  null|                null|        Afghanistan|2021-02-27 05:22:28| 33.93911| 67.709953|    55696|  2442|    49285|  3969|         Afghanistan| 143.0731404659654|  4.384515943694341|\n",
       "|null|  null|                null|            Albania|2021-02-27 05:22:28|  41.1533|   20.1683|   105229|  1756|    68007| 35466|             Albania|3656.5779414830768| 1.6687415066188978|\n",
       "|null|  null|                null|            Algeria|2021-02-27 05:22:28|  28.0339|    1.6596|   112805|  2977|    77842| 31986|             Algeria| 257.2458766830244|  2.639067417224414|\n",
       "|null|  null|                null|            Andorra|2021-02-27 05:22:28|  42.5063|    1.5218|    10822|   110|    10394|   318|             Andorra|14006.341810651653| 1.0164479763444834|\n",
       "|null|  null|                null|             Angola|2021-02-27 05:22:28| -11.2027|   17.8739|    20759|   504|    19307|   948|              Angola| 63.16202375030837|   2.42786261380606|\n",
       "|null|  null|                null|Antigua and Barbuda|2021-02-27 05:22:28|  17.0608|  -61.7964|      701|    14|      271|   416| Antigua and Barbuda|  715.832039866024| 1.9971469329529243|\n",
       "|null|  null|                null|          Argentina|2021-02-27 05:22:28| -38.4161|  -63.6167|  2098728| 51887|  1892834|154007|           Argentina| 4643.637391165993| 2.4723070354995977|\n",
       "|null|  null|                null|            Armenia|2021-02-27 05:22:28|  40.0691|   45.0382|   171510|  3183|   163165|  5162|             Armenia|5787.9330488243595|  1.855868462480322|\n",
       "|null|  null|Australian Capita...|          Australia|2021-02-27 05:22:28| -35.4735|  149.0124|      118|     3|      115|     0|Australian Capita...|27.563653352020555|  2.542372881355932|\n",
       "|null|  null|     New South Wales|          Australia|2021-02-27 05:22:28| -33.8688|  151.2093|     5172|    54|        0|  5118|New South Wales, ...| 63.71027346637103| 1.0440835266821347|\n",
       "|null|  null|  Northern Territory|          Australia|2021-02-27 05:22:28| -12.4634|  130.8456|      105|     0|      103|     2|Northern Territor...| 42.75244299674267|                0.0|\n",
       "|null|  null|          Queensland|          Australia|2021-02-27 05:22:28| -27.4698|  153.0251|     1329|     6|     1310|    13|Queensland, Austr...|25.979865115824452|0.45146726862302483|\n",
       "|null|  null|     South Australia|          Australia|2021-02-27 05:22:28| -34.9285|  138.6007|      613|     4|      606|     3|South Australia, ...| 34.89894676914318| 0.6525285481239804|\n",
       "|null|  null|            Tasmania|          Australia|2021-02-27 05:22:28| -42.8821|  147.3272|      234|    13|      221|     0| Tasmania, Australia| 43.69747899159664|  5.555555555555555|\n",
       "|null|  null|            Victoria|          Australia|2021-02-27 05:22:28| -37.8136|  144.9631|    20481|   820|    19646|    15| Victoria, Australia| 308.9186865563583|  4.003710756310727|\n",
       "|null|  null|   Western Australia|          Australia|2021-02-27 05:22:28| -31.9505|  115.8605|      913|     9|      901|     3|Western Australia...| 34.70691097088117| 0.9857612267250822|\n",
       "|null|  null|                null|            Austria|2021-02-27 05:22:28|  47.5162|   14.5501|   454860|  8515|   427257| 19088|             Austria|5050.4085983300765| 1.8720045728355978|\n",
       "|null|  null|                null|         Azerbaijan|2021-02-27 05:22:28|  40.1431|   47.5769|   233989|  3213|   228479|  2297|          Azerbaijan|2307.7715889113265| 1.3731414724623807|\n",
       "|null|  null|                null|            Bahamas|2021-02-27 05:22:28|25.025885|-78.035889|     8519|   179|     7309|  1031|             Bahamas|2166.3174383595083| 2.1011855851625776|\n",
       "|null|  null|                null|            Bahrain|2021-02-27 05:22:28|  26.0275|     50.55|   121127|   442|   113799|  6886|             Bahrain| 7118.489077523695| 0.3649062554178672|\n",
       "+----+------+--------------------+-------------------+-------------------+---------+----------+---------+------+---------+------+--------------------+------------------+-------------------+\n",
       "only showing top 20 rows"
      ]
     },
     "execution_count": 6,
     "metadata": {},
     "output_type": "execute_result"
    }
   ],
   "source": [
    "df"
   ]
  },
  {
   "cell_type": "code",
   "execution_count": 7,
   "id": "3a92e1b1",
   "metadata": {},
   "outputs": [],
   "source": [
    "df = df.where(F.col(\"Country_Region\") == \"US\")"
   ]
  },
  {
   "cell_type": "code",
   "execution_count": 8,
   "id": "14eec8b1",
   "metadata": {},
   "outputs": [
    {
     "data": {
      "text/plain": [
       "1328965"
      ]
     },
     "execution_count": 8,
     "metadata": {},
     "output_type": "execute_result"
    }
   ],
   "source": [
    "df.count()"
   ]
  },
  {
   "cell_type": "code",
   "execution_count": 9,
   "id": "b1d348fc",
   "metadata": {},
   "outputs": [],
   "source": [
    "# note: input files are in format /path/to/file/MM-dd-yyyy.csv\n",
    "# the final line of the select statement grabs the first 10 characters\n",
    "# starting at the 14th-from-last character of the file path, which results\n",
    "# in the date of the record.\n",
    "\n",
    "# numbers \n",
    "\n",
    "daily_df = df.select(\n",
    "    F.col(\"Province_State\").alias(\"state\"),\n",
    "    F.to_date(F.substring(F.input_file_name(), -14, 10), \"MM-dd-yyyy\").alias(\"date\"),\n",
    "    F.col(\"Confirmed\").cast(\"integer\").alias(\"confirmed\"),\n",
    "    F.col(\"Deaths\").cast(\"integer\").alias(\"deaths\")\n",
    ").where(~F.col(\"state\").isin(\n",
    "        \"Recovered\", \"District of Columbia\", \"Grand Princess\",\n",
    "        \"Puerto Rico\", \"American Samoa\", \"Northern Mariana Islands\",\n",
    "        \"Guam\", \"Diamond Princess\", \"Wuhan Evacuee\")\n",
    ")\n",
    "\n",
    "# group by state and date and sum up confirmed and death counts\n",
    "daily_df = daily_df.groupBy(\"state\", \"date\").agg(\n",
    "    F.sum(\"confirmed\").alias(\"confirmed\"),\n",
    "    F.sum(\"deaths\").alias(\"deaths\"),\n",
    ")\n",
    "\n",
    "# select daily increments rather than accumulating values\n",
    "w = Window().partitionBy(\"state\").orderBy(\"date\")\n",
    "daily_df = daily_df.select(\n",
    "    \"state\", \"date\",\n",
    "    (F.col(\"confirmed\") - F.lag(\"confirmed\", default=0).over(w)).alias(\"confirmed\"),\n",
    "    (F.col(\"deaths\") - F.lag(\"deaths\", default=0).over(w)).alias(\"deaths\")\n",
    ")"
   ]
  },
  {
   "cell_type": "code",
   "execution_count": null,
   "id": "8b3cfc7b",
   "metadata": {},
   "outputs": [],
   "source": [
    "daily_df"
   ]
  },
  {
   "cell_type": "markdown",
   "id": "63ed200d",
   "metadata": {},
   "source": [
    "## Data validation"
   ]
  },
  {
   "cell_type": "markdown",
   "id": "45078322",
   "metadata": {},
   "source": [
    "### Check #1: data does not contain null values"
   ]
  },
  {
   "cell_type": "code",
   "execution_count": null,
   "id": "235c0896",
   "metadata": {},
   "outputs": [],
   "source": [
    "data_validation_df1 = daily_df.where(\n",
    "    (F.col(\"state\").isNull())\n",
    "    | (F.col(\"date\").isNull())\n",
    "    | (F.col(\"confirmed\").isNull())\n",
    "    | (F.col(\"deaths\").isNull())\n",
    ")\n",
    "assert data_validation_df1.count() == 0"
   ]
  },
  {
   "cell_type": "markdown",
   "id": "66e92987",
   "metadata": {},
   "source": [
    "### Check #2: each day has data for all 50 states"
   ]
  },
  {
   "cell_type": "code",
   "execution_count": null,
   "id": "ae3fce1e",
   "metadata": {},
   "outputs": [],
   "source": [
    "data_validation_df2 = daily_df.groupBy(\"date\").count()\n",
    "data_validation_df2 = data_validation_df2.where(F.col(\"count\") != 50)\n",
    "assert data_validation_df2.count() == 0"
   ]
  },
  {
   "cell_type": "markdown",
   "id": "f670377a",
   "metadata": {},
   "source": [
    "## Data transformation and preparation"
   ]
  },
  {
   "cell_type": "markdown",
   "id": "542dd140",
   "metadata": {},
   "source": [
    "### Hexadecimal color codes used to \"bucket\" aggregated data"
   ]
  },
  {
   "cell_type": "code",
   "execution_count": 643,
   "id": "f839ce40",
   "metadata": {},
   "outputs": [],
   "source": [
    "# from least severe to most severe\n",
    "c1 = \"#FFFED1\"  # light yellow\n",
    "c2 = \"#FFE98F\"\n",
    "c3 = \"#FFDF8F\"\n",
    "c4 = \"#FDC979\"\n",
    "c5 = \"#FFAA61\"\n",
    "c6 = \"#FF9161\"\n",
    "c7 = \"#FF7149\"\n",
    "c8 = \"#E55C36\"\n",
    "c9 = \"#D84E27\"\n",
    "c10 = \"#CB2921\"  # deep red"
   ]
  },
  {
   "cell_type": "code",
   "execution_count": 644,
   "id": "732fbf62",
   "metadata": {},
   "outputs": [],
   "source": [
    "max_confirmed = daily_df.agg(F.expr(\"percentile(confirmed, 0.95)\").alias(\"confirmed\")).collect()[0].confirmed\n",
    "max_deaths = daily_df.agg(F.expr(\"percentile(deaths, 0.95)\").alias(\"deaths\")).collect()[0].deaths"
   ]
  },
  {
   "cell_type": "code",
   "execution_count": 645,
   "id": "82c7f852",
   "metadata": {},
   "outputs": [],
   "source": [
    "confirmed_bucket_interval = max_confirmed // 10\n",
    "deaths_bucket_interval = max_deaths // 10"
   ]
  },
  {
   "cell_type": "markdown",
   "id": "e19da8a1",
   "metadata": {},
   "source": [
    "### 7-day and 30-day rollups"
   ]
  },
  {
   "cell_type": "code",
   "execution_count": 646,
   "id": "f324af7f",
   "metadata": {},
   "outputs": [],
   "source": [
    "# note: this data source begins on March 22, 2020 and goes until the current day (at the time this\n",
    "# project was being worked on); the where clause exists because the window function produces\n",
    "# rows that start before March 22, 2020.\n",
    "\n",
    "seven_day_df = (\n",
    "    daily_df.groupBy(\"state\", F.window(\"date\", windowDuration=\"7 day\", slideDuration=\"1 day\"))\n",
    "    .agg(\n",
    "        F.avg(\"confirmed\").cast(\"integer\").alias(\"confirmed\"),\n",
    "        F.avg(\"deaths\").cast(\"integer\").alias(\"deaths\")\n",
    "    )\n",
    "    .withColumn(\"date\", (F.col(\"window\").start).cast(\"date\"))\n",
    "    .drop(\"window\")\n",
    "    .where(F.col(\"date\") >= F.lit(datetime(2020, 3, 22)))\n",
    ")"
   ]
  },
  {
   "cell_type": "code",
   "execution_count": 647,
   "id": "d5f0c5d8",
   "metadata": {},
   "outputs": [
    {
     "data": {
      "text/html": [
       "<table border='1'>\n",
       "<tr><th>state</th><th>confirmed</th><th>deaths</th><th>date</th></tr>\n",
       "<tr><td>Hawaii</td><td>4</td><td>0</td><td>2020-06-04</td></tr>\n",
       "<tr><td>Hawaii</td><td>222</td><td>1</td><td>2020-08-18</td></tr>\n",
       "<tr><td>Minnesota</td><td>771</td><td>6</td><td>2020-08-31</td></tr>\n",
       "<tr><td>Minnesota</td><td>974</td><td>7</td><td>2021-03-10</td></tr>\n",
       "<tr><td>Ohio</td><td>510</td><td>43</td><td>2020-04-25</td></tr>\n",
       "<tr><td>Arkansas</td><td>154</td><td>2</td><td>2021-04-04</td></tr>\n",
       "<tr><td>Oregon</td><td>761</td><td>3</td><td>2021-04-30</td></tr>\n",
       "<tr><td>Texas</td><td>4164</td><td>130</td><td>2020-08-28</td></tr>\n",
       "<tr><td>Texas</td><td>4149</td><td>126</td><td>2020-08-31</td></tr>\n",
       "<tr><td>Texas</td><td>3676</td><td>132</td><td>2021-03-16</td></tr>\n",
       "<tr><td>North Dakota</td><td>27</td><td>1</td><td>2020-05-24</td></tr>\n",
       "<tr><td>North Dakota</td><td>83</td><td>1</td><td>2021-03-09</td></tr>\n",
       "<tr><td>Pennsylvania</td><td>2494</td><td>31</td><td>2021-03-09</td></tr>\n",
       "<tr><td>Connecticut</td><td>507</td><td>50</td><td>2020-05-16</td></tr>\n",
       "<tr><td>Connecticut</td><td>82</td><td>1</td><td>2020-08-08</td></tr>\n",
       "<tr><td>Connecticut</td><td>1832</td><td>13</td><td>2020-11-16</td></tr>\n",
       "<tr><td>Vermont</td><td>6</td><td>1</td><td>2020-04-22</td></tr>\n",
       "<tr><td>Vermont</td><td>4</td><td>0</td><td>2020-08-01</td></tr>\n",
       "<tr><td>Vermont</td><td>9</td><td>0</td><td>2020-10-07</td></tr>\n",
       "<tr><td>Vermont</td><td>157</td><td>1</td><td>2021-03-20</td></tr>\n",
       "</table>\n",
       "only showing top 20 rows\n"
      ],
      "text/plain": [
       "+------------+---------+------+----------+\n",
       "|       state|confirmed|deaths|      date|\n",
       "+------------+---------+------+----------+\n",
       "|      Hawaii|        4|     0|2020-06-04|\n",
       "|      Hawaii|      222|     1|2020-08-18|\n",
       "|   Minnesota|      771|     6|2020-08-31|\n",
       "|   Minnesota|      974|     7|2021-03-10|\n",
       "|        Ohio|      510|    43|2020-04-25|\n",
       "|    Arkansas|      154|     2|2021-04-04|\n",
       "|      Oregon|      761|     3|2021-04-30|\n",
       "|       Texas|     4164|   130|2020-08-28|\n",
       "|       Texas|     4149|   126|2020-08-31|\n",
       "|       Texas|     3676|   132|2021-03-16|\n",
       "|North Dakota|       27|     1|2020-05-24|\n",
       "|North Dakota|       83|     1|2021-03-09|\n",
       "|Pennsylvania|     2494|    31|2021-03-09|\n",
       "| Connecticut|      507|    50|2020-05-16|\n",
       "| Connecticut|       82|     1|2020-08-08|\n",
       "| Connecticut|     1832|    13|2020-11-16|\n",
       "|     Vermont|        6|     1|2020-04-22|\n",
       "|     Vermont|        4|     0|2020-08-01|\n",
       "|     Vermont|        9|     0|2020-10-07|\n",
       "|     Vermont|      157|     1|2021-03-20|\n",
       "+------------+---------+------+----------+\n",
       "only showing top 20 rows"
      ]
     },
     "execution_count": 647,
     "metadata": {},
     "output_type": "execute_result"
    }
   ],
   "source": [
    "# geo ID will be correlated with the GeoJSON data in the web app to retrieve the county name\n",
    "seven_day_df"
   ]
  },
  {
   "cell_type": "code",
   "execution_count": 648,
   "id": "f7313810",
   "metadata": {},
   "outputs": [],
   "source": [
    "thirty_day_df = (\n",
    "    daily_df.groupBy(\"state\", F.window(\"date\", windowDuration=\"30 day\", slideDuration=\"1 day\"))\n",
    "    .agg(\n",
    "        F.avg(\"confirmed\").cast(\"integer\").alias(\"confirmed\"),\n",
    "        F.avg(\"deaths\").cast(\"integer\").alias(\"deaths\")\n",
    "    )\n",
    "    .withColumn(\"date\", F.col(\"window\").start.cast(\"date\"))\n",
    "    .drop(\"window\")\n",
    "    .where(F.col(\"date\") >= F.lit(datetime(2020, 3, 22)))\n",
    ")"
   ]
  },
  {
   "cell_type": "code",
   "execution_count": 649,
   "id": "781650b9",
   "metadata": {},
   "outputs": [
    {
     "data": {
      "text/html": [
       "<table border='1'>\n",
       "<tr><th>state</th><th>confirmed</th><th>deaths</th><th>date</th></tr>\n",
       "<tr><td>Utah</td><td>405</td><td>3</td><td>2021-03-24</td></tr>\n",
       "<tr><td>Hawaii</td><td>68</td><td>0</td><td>2021-02-24</td></tr>\n",
       "<tr><td>Minnesota</td><td>1552</td><td>10</td><td>2021-04-14</td></tr>\n",
       "<tr><td>Ohio</td><td>1259</td><td>20</td><td>2020-07-04</td></tr>\n",
       "<tr><td>Ohio</td><td>1027</td><td>21</td><td>2020-08-16</td></tr>\n",
       "<tr><td>Ohio</td><td>1016</td><td>18</td><td>2020-08-30</td></tr>\n",
       "<tr><td>Ohio</td><td>4171</td><td>49</td><td>2020-10-18</td></tr>\n",
       "<tr><td>Ohio</td><td>6482</td><td>80</td><td>2020-10-29</td></tr>\n",
       "<tr><td>Arkansas</td><td>1200</td><td>28</td><td>2021-01-22</td></tr>\n",
       "<tr><td>Arkansas</td><td>449</td><td>6</td><td>2021-02-21</td></tr>\n",
       "<tr><td>Oregon</td><td>1316</td><td>18</td><td>2020-11-25</td></tr>\n",
       "<tr><td>Oregon</td><td>1046</td><td>16</td><td>2020-12-22</td></tr>\n",
       "<tr><td>Oregon</td><td>299</td><td>5</td><td>2021-03-01</td></tr>\n",
       "<tr><td>Oregon</td><td>722</td><td>3</td><td>2021-04-11</td></tr>\n",
       "<tr><td>Texas</td><td>1287</td><td>26</td><td>2020-05-11</td></tr>\n",
       "<tr><td>Texas</td><td>18749</td><td>233</td><td>2020-12-21</td></tr>\n",
       "<tr><td>Pennsylvania</td><td>8466</td><td>132</td><td>2020-11-18</td></tr>\n",
       "<tr><td>Pennsylvania</td><td>5232</td><td>162</td><td>2021-01-11</td></tr>\n",
       "<tr><td>Pennsylvania</td><td>3702</td><td>105</td><td>2021-01-26</td></tr>\n",
       "<tr><td>Pennsylvania</td><td>3856</td><td>31</td><td>2021-03-15</td></tr>\n",
       "</table>\n",
       "only showing top 20 rows\n"
      ],
      "text/plain": [
       "+------------+---------+------+----------+\n",
       "|       state|confirmed|deaths|      date|\n",
       "+------------+---------+------+----------+\n",
       "|        Utah|      405|     3|2021-03-24|\n",
       "|      Hawaii|       68|     0|2021-02-24|\n",
       "|   Minnesota|     1552|    10|2021-04-14|\n",
       "|        Ohio|     1259|    20|2020-07-04|\n",
       "|        Ohio|     1027|    21|2020-08-16|\n",
       "|        Ohio|     1016|    18|2020-08-30|\n",
       "|        Ohio|     4171|    49|2020-10-18|\n",
       "|        Ohio|     6482|    80|2020-10-29|\n",
       "|    Arkansas|     1200|    28|2021-01-22|\n",
       "|    Arkansas|      449|     6|2021-02-21|\n",
       "|      Oregon|     1316|    18|2020-11-25|\n",
       "|      Oregon|     1046|    16|2020-12-22|\n",
       "|      Oregon|      299|     5|2021-03-01|\n",
       "|      Oregon|      722|     3|2021-04-11|\n",
       "|       Texas|     1287|    26|2020-05-11|\n",
       "|       Texas|    18749|   233|2020-12-21|\n",
       "|Pennsylvania|     8466|   132|2020-11-18|\n",
       "|Pennsylvania|     5232|   162|2021-01-11|\n",
       "|Pennsylvania|     3702|   105|2021-01-26|\n",
       "|Pennsylvania|     3856|    31|2021-03-15|\n",
       "+------------+---------+------+----------+\n",
       "only showing top 20 rows"
      ]
     },
     "execution_count": 649,
     "metadata": {},
     "output_type": "execute_result"
    }
   ],
   "source": [
    "thirty_day_df"
   ]
  },
  {
   "cell_type": "code",
   "execution_count": 650,
   "id": "aa415838",
   "metadata": {},
   "outputs": [],
   "source": [
    "# split data into 10 groups, indicating the severity of cases at a given date\n",
    "\n",
    "def assign_color(df, metric_col_name, new_column_name, interval):\n",
    "    \"\"\"\n",
    "    Assigns a column color the the DataFrame based on metric value.\n",
    "    \n",
    "    \n",
    "    Parameters:\n",
    "    -----------\n",
    "    df: DataFrame\n",
    "    measure_col_name: the name of the measurement column\n",
    "    new_column_name: the name of the newly created column\n",
    "    interval: the bucketing interval\n",
    "    \"\"\"\n",
    "    return df.withColumn(\n",
    "        new_column_name,\n",
    "        F.when(F.col(metric_col_name) <= interval * 1, c1)\n",
    "         .when(F.col(metric_col_name) <= interval * 2, c2)\n",
    "         .when(F.col(metric_col_name) <= interval * 3, c3)\n",
    "         .when(F.col(metric_col_name) <= interval * 4, c4)\n",
    "         .when(F.col(metric_col_name) <= interval * 5, c5)\n",
    "         .when(F.col(metric_col_name) <= interval * 6, c6)\n",
    "         .when(F.col(metric_col_name) <= interval * 7, c7)\n",
    "         .when(F.col(metric_col_name) <= interval * 8, c8)\n",
    "         .when(F.col(metric_col_name) <= interval * 9, c9)\n",
    "         .otherwise(c10)\n",
    "    )\n",
    "\n",
    "\n",
    "def assign_all_colors(df):\n",
    "    \"\"\"\n",
    "    Assigns color columns for confirmed cases and deaths.\n",
    "    \n",
    "    \n",
    "    Parameters:\n",
    "    -----------\n",
    "    df: DataFrame\n",
    "    \"\"\"\n",
    "    df = assign_color(df, \"confirmed\", \"confirmed_color\", confirmed_bucket_interval)\n",
    "    df = assign_color(df, \"deaths\", \"deaths_color\", deaths_bucket_interval)\n",
    "    return df\n",
    "\n",
    "\n",
    "def prepare_for_export(df):\n",
    "    \"\"\"\n",
    "    Transforms data into the JSON format that the web app will parse to color the\n",
    "    map. First, it condenses all but the date column into a JSON object. Next, it\n",
    "    groups by date and combines all of those JSON objects into a list. We are left\n",
    "    with a mapping from date to the covid data for all counties.\n",
    "    \n",
    "    Parameters:\n",
    "    -----------\n",
    "    df: either daily_df, seven_day_df, or thirty_day_df\n",
    "    \"\"\"\n",
    "    df = assign_all_colors(df)\n",
    "    \n",
    "    non_date_cols = df.columns\n",
    "    non_date_cols.remove(\"date\")\n",
    "    \n",
    "    df = df.select(\n",
    "        \"date\",\n",
    "        F.to_json(F.struct(*non_date_cols)).alias(\"values\")\n",
    "    )\n",
    "    \n",
    "    df = (\n",
    "        df\n",
    "        .groupBy(\"date\")\n",
    "        .agg(F.collect_list(\"values\").alias(\"values\"))\n",
    "        .orderBy(\"date\")\n",
    "    )\n",
    "    \n",
    "    return df\n",
    "\n",
    "\n",
    "def assign_colors_and_write_to_json(df, output_path):\n",
    "    \"\"\"\n",
    "    Assigned color columns to dataframe and write to output file in JSON format.\n",
    "    \n",
    "    \n",
    "    Parameters:\n",
    "    -----------\n",
    "    df: DataFrame\n",
    "    output_path: the path of the output file\n",
    "    \"\"\"\n",
    "    df = prepare_for_export(df)\n",
    "    df.coalesce(1).write.json(output_path)"
   ]
  },
  {
   "cell_type": "code",
   "execution_count": 651,
   "id": "73d28e3c",
   "metadata": {},
   "outputs": [],
   "source": [
    "assign_colors_and_write_to_json(daily_df, \"covid_19_daily\")\n",
    "assign_colors_and_write_to_json(seven_day_df, \"covid_19_seven_day\")\n",
    "assign_colors_and_write_to_json(thirty_day_df, \"covid_19_thirty_day\")"
   ]
  },
  {
   "cell_type": "code",
   "execution_count": null,
   "id": "cbf89eed",
   "metadata": {},
   "outputs": [],
   "source": []
  }
 ],
 "metadata": {
  "kernelspec": {
   "display_name": "Python 3",
   "language": "python",
   "name": "python3"
  },
  "language_info": {
   "codemirror_mode": {
    "name": "ipython",
    "version": 3
   },
   "file_extension": ".py",
   "mimetype": "text/x-python",
   "name": "python",
   "nbconvert_exporter": "python",
   "pygments_lexer": "ipython3",
   "version": "3.9.4"
  }
 },
 "nbformat": 4,
 "nbformat_minor": 5
}
